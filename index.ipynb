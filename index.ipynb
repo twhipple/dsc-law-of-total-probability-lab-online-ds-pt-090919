{
 "cells": [
  {
   "cell_type": "markdown",
   "metadata": {},
   "source": [
    "# Partitioning and Law of Total Probability - Lab\n",
    "\n",
    "## Introduction \n",
    "In this lab, you'll practice your knowledge of the law of total probability. In probability theory, the law (or formula) of total probability is a fundamental rule relating **marginal probabilities** to **conditional probabilities**.\n",
    "\n",
    "## Objectives\n",
    "\n",
    "You will be able to:\n",
    "\n",
    "* Differentiate between independent and dependent events\n",
    "* Perform partitioning based on known and unknown probabilities to solve a problem"
   ]
  },
  {
   "cell_type": "markdown",
   "metadata": {},
   "source": [
    "## Exercise 1\n",
    "Imagine you have two hats: one has 4 red balls and 6 green balls, the other has 6 red and 4 green. We toss a fair coin, if heads, you will pick a random ball from the first hat, if tails you will pick one from the second hat. \n",
    "\n",
    "What is the probability of getting a red ball?"
   ]
  },
  {
   "cell_type": "code",
   "execution_count": 1,
   "metadata": {},
   "outputs": [
    {
     "data": {
      "text/plain": [
       "1.0"
      ]
     },
     "execution_count": 1,
     "metadata": {},
     "output_type": "execute_result"
    }
   ],
   "source": [
    "# Your code here\n",
    "P_coin = 1/2\n",
    "P_greenhat = 4/10\n",
    "P_redhat = 6/10\n",
    "# Formula?\n",
    "#𝑃𝑟(R) = 𝑃𝑟(R∣T)𝑃𝑟(T) + 𝑃𝑟(R∣H)𝑃𝑟(H)\n",
    "# P_red = P_red_given_heads*P_heads + P_red_given_tails*P_tails\n",
    "P_red = (P_redhat / P_coin)*P_coin + (P_greenhat / P_coin)*P_coin\n",
    "P_red"
   ]
  },
  {
   "cell_type": "code",
   "execution_count": 2,
   "metadata": {},
   "outputs": [
    {
     "data": {
      "text/plain": [
       "0.5"
      ]
     },
     "execution_count": 2,
     "metadata": {},
     "output_type": "execute_result"
    }
   ],
   "source": [
    "P_H = 1/2 * 4/10\n",
    "P_T = 1/2 * 6/10\n",
    "P_R = P_H + P_T\n",
    "P_R"
   ]
  },
  {
   "cell_type": "code",
   "execution_count": 18,
   "metadata": {},
   "outputs": [
    {
     "data": {
      "text/plain": [
       "0.5"
      ]
     },
     "execution_count": 18,
     "metadata": {},
     "output_type": "execute_result"
    }
   ],
   "source": [
    "# Their code\n",
    "## P(Red) = P(Red|H) · P(H) + P(Red|T) · P(T)\n",
    "\n",
    "p_red = (4/10 * 1/2) + (6/10 * 1/2)\n",
    "p_red"
   ]
  },
  {
   "cell_type": "markdown",
   "metadata": {},
   "source": [
    "## Exercise 2\n",
    "In games where at least one goal is made, a soccer team wins 60% of its games when it scores the first goal, and 10% of its games when the opposing team \n",
    "scores first. \n",
    "\n",
    "If the team scores the first goal about 30% of the time, what fraction of the games does it win?"
   ]
  },
  {
   "cell_type": "code",
   "execution_count": 7,
   "metadata": {},
   "outputs": [
    {
     "data": {
      "text/plain": [
       "0.21"
      ]
     },
     "execution_count": 7,
     "metadata": {},
     "output_type": "execute_result"
    }
   ],
   "source": [
    "# Your code here\n",
    "P_1_goalwin = .6\n",
    "P_2_goalwin = .1\n",
    "P_score = .3\n",
    "P_win = P_1_goalwin * P_score +  P_2_goalwin * P_score\n",
    "P_win"
   ]
  },
  {
   "cell_type": "code",
   "execution_count": 20,
   "metadata": {},
   "outputs": [
    {
     "data": {
      "text/plain": [
       "0.25"
      ]
     },
     "execution_count": 20,
     "metadata": {},
     "output_type": "execute_result"
    }
   ],
   "source": [
    "# Again\n",
    "P_1_goalwin = .6\n",
    "P_2_goalwin = .1\n",
    "P_score = .3\n",
    "P_NOT_score = .7\n",
    "P_win = P_1_goalwin * P_score +  P_2_goalwin * P_NOT_score\n",
    "P_win"
   ]
  },
  {
   "cell_type": "code",
   "execution_count": 19,
   "metadata": {},
   "outputs": [
    {
     "data": {
      "text/plain": [
       "0.25"
      ]
     },
     "execution_count": 19,
     "metadata": {},
     "output_type": "execute_result"
    }
   ],
   "source": [
    "# Their code\n",
    "# Let W be the event that the team wins, \n",
    "# SF be the event that it scores first. \n",
    "# Then according to law of total probs.\n",
    "\n",
    "# P(W) = P(W|SF) · P(SF) + P(W|SFc) · P(SFc)\n",
    "\n",
    "p_w = (6/10 * 3/10) + (1/10 * 7/10)\n",
    "p_w"
   ]
  },
  {
   "cell_type": "markdown",
   "metadata": {},
   "source": [
    "## Exercise 3"
   ]
  },
  {
   "cell_type": "markdown",
   "metadata": {},
   "source": [
    "In Europe, except for regular gas, cars often run on diesel as well. At a gas station in Paris; \n",
    "\n",
    "\n",
    "* 40% of the customers fill up with diesel (event G1) \n",
    "* 35% with gas \"Super 95\" (event G2)\n",
    "* 25% with gas \"Super 98\" (event G3). \n",
    "\n",
    "\n",
    "* 30% of the customers who buy diesel fill their tank completely (event F). \n",
    "* For \"Super 95\" and \"Super 98\", these numbers are  60% and 50%, respectively.\n",
    "\n",
    "\n",
    "- Compute the probability that the next customer completely fills their tank and buys Super 95. \n",
    "- Compute the probability that the next customer completely fills their tank\n",
    "- Given that the next customer fills their tank completely, compute the probability that they bought diesel. \n",
    "\n",
    "Hint: Consult the theorems for conditional probability, check for dependence or independence of events"
   ]
  },
  {
   "cell_type": "code",
   "execution_count": 23,
   "metadata": {},
   "outputs": [
    {
     "data": {
      "text/plain": [
       "(0.21, 0.45499999999999996, 0.26373626373626374)"
      ]
     },
     "execution_count": 23,
     "metadata": {},
     "output_type": "execute_result"
    }
   ],
   "source": [
    "# Your code here\n",
    "P_D = .4\n",
    "P_95 = .35\n",
    "P_98 = .25\n",
    "P_FullD = .3\n",
    "P_Full95 = .6\n",
    "P_Full98 = .5\n",
    "P_A = P_95 * P_Full95\n",
    "P_B = P_D * P_FullD + P_95 * P_Full95 + P_98 * P_Full98\n",
    "P_C = P_FullD * P_D / P_B\n",
    "P_A, P_B, P_C"
   ]
  },
  {
   "cell_type": "code",
   "execution_count": 24,
   "metadata": {},
   "outputs": [
    {
     "data": {
      "text/plain": [
       "0.12"
      ]
     },
     "execution_count": 24,
     "metadata": {},
     "output_type": "execute_result"
    }
   ],
   "source": [
    "# Again...\n",
    "P_G1 = .4\n",
    "P_G2 = .35\n",
    "P_G3 = .25\n",
    "P_F1 = .3\n",
    "P_F2 = .6\n",
    "P_F3 = .5\n",
    "P_D = P_F1 * P_G1\n",
    "P_D"
   ]
  },
  {
   "cell_type": "code",
   "execution_count": 25,
   "metadata": {},
   "outputs": [
    {
     "data": {
      "text/plain": [
       "0.26373626373626374"
      ]
     },
     "execution_count": 25,
     "metadata": {},
     "output_type": "execute_result"
    }
   ],
   "source": [
    "# Again - using the answer from the second question! P_B\n",
    "(P_G1 * P_F1) / P_B"
   ]
  },
  {
   "cell_type": "code",
   "execution_count": 26,
   "metadata": {},
   "outputs": [
    {
     "name": "stdout",
     "output_type": "stream",
     "text": [
      "0.21\n",
      "0.45499999999999996\n",
      "0.26373626373626374\n"
     ]
    }
   ],
   "source": [
    "# Their code\n",
    "full_super_95 = 0.35*0.6\n",
    "print(full_super_95) # correct answer: 0.21\n",
    "\n",
    "full_diesel = 0.4*0.3\n",
    "full_super_98 = 0.25*0.5\n",
    "p_full = full_super_95 + full_diesel + full_super_98\n",
    "print(p_full) # correct answer: 0.455\n",
    "\n",
    "p_diesel_given_full = (0.4*0.3)/p_full\n",
    "print(p_diesel_given_full) # correct answer: 0.263736"
   ]
  },
  {
   "cell_type": "markdown",
   "metadata": {},
   "source": [
    "## Exercise 4"
   ]
  },
  {
   "cell_type": "markdown",
   "metadata": {},
   "source": [
    "United Airlines operates flights from JFK to Amsterdam, to Brussels, and to Copenhagen. As you may know, flights are overbooked fairly often. Let's denote the probability of the flight to Amsterdam being overbooked equal to 40%, the probability of the flight to Brussels being overbooked equal to 25%, and the probability of the flight to Copenhagen being overbooked equal to 35%. You can assume that these events of overbooking are independent events."
   ]
  },
  {
   "cell_type": "markdown",
   "metadata": {},
   "source": [
    "- Compute the probability that all the flights are overbooked.\n",
    "- Compute the probability of having at least one flight which is not overbooked.\n",
    "- Compute the probability that exactly one flight is overbooked."
   ]
  },
  {
   "cell_type": "code",
   "execution_count": 17,
   "metadata": {},
   "outputs": [
    {
     "data": {
      "text/plain": [
       "(0.3333333333333333, 0.6666666666666667, 0.0)"
      ]
     },
     "execution_count": 17,
     "metadata": {},
     "output_type": "execute_result"
    }
   ],
   "source": [
    "# Your code here\n",
    "P_A = .4\n",
    "P_B = .25\n",
    "P_C = .35\n",
    "P_F = 1/3\n",
    "P_Overbooked = P_A * P_F + P_B * P_F + P_C * P_F\n",
    "P_Overbooked\n",
    "P_Not = 1 - P_Overbooked\n",
    "P_Not\n",
    "P_Exactly = 1 - ( P_A + P_B + P_C )\n",
    "P_Overbooked, P_Not, P_Exactly"
   ]
  },
  {
   "cell_type": "code",
   "execution_count": 27,
   "metadata": {},
   "outputs": [
    {
     "name": "stdout",
     "output_type": "stream",
     "text": [
      "0.034999999999999996\n",
      "0.965\n",
      "0.45\n"
     ]
    }
   ],
   "source": [
    "# Their code\n",
    "p_all_overbooked = 0.25*0.40*0.35\n",
    "print(p_all_overbooked) # correct answer: 0.035\n",
    "\n",
    "at_least_one_not = 1-p_all_overbooked\n",
    "print(at_least_one_not)  # correct answer: 0.965\n",
    "\n",
    "# p_just_one = p(amsterdam_just one) + p(brussels_just_one) + p(cop_just_one)\n",
    "p_amsterdam_just_one = 0.4*0.75*0.65 # (1-p for other flights)\n",
    "p_brussels_just_one = 0.6*0.25*0.65\n",
    "p_copenhagen_just_one = 0.6*0.75*0.35\n",
    "# When two events, A and B, are mutually exclusive, there is no overlap between these events. \n",
    "# The probability that A and B is the sum of the probability of each event\n",
    "p_just_one = p_amsterdam_just_one + p_brussels_just_one + p_copenhagen_just_one\n",
    "# finally\n",
    "print(p_just_one) # 0.45"
   ]
  },
  {
   "cell_type": "markdown",
   "metadata": {},
   "source": [
    "## Exercise 5\n",
    "You have three bags that each contain 100 marbles:\n",
    "\n",
    "- Bag 1 has 75 red and 25 blue marbles;\n",
    "- Bag 2 has 60 red and 40 blue marbles;\n",
    "- Bag 3 has 45 red and 55 blue marbles.\n",
    "\n",
    "You choose one of the bags at random and then pick a marble from the chosen bag, also at random. \n",
    "\n",
    "What is the probability that the chosen marble is red?\n"
   ]
  },
  {
   "cell_type": "code",
   "execution_count": 13,
   "metadata": {},
   "outputs": [
    {
     "data": {
      "text/plain": [
       "0.6"
      ]
     },
     "execution_count": 13,
     "metadata": {},
     "output_type": "execute_result"
    }
   ],
   "source": [
    "# Your code here\n",
    "P_1 = .75\n",
    "P_2 = .6\n",
    "P_3 = .45\n",
    "P_Bag = 1/3\n",
    "P_Red =  P_1 * P_Bag + P_2 * P_Bag + P_3 * P_Bag\n",
    "P_Red"
   ]
  },
  {
   "cell_type": "code",
   "execution_count": 28,
   "metadata": {},
   "outputs": [
    {
     "data": {
      "text/plain": [
       "0.6"
      ]
     },
     "execution_count": 28,
     "metadata": {},
     "output_type": "execute_result"
    }
   ],
   "source": [
    "# Their solution\n",
    "# Let R be the event that the chosen marble is red. Let Bi be the event that you choose Bag i. \n",
    "# We already know that\n",
    "\n",
    "P_R_given_B1=0.75\n",
    "P_R_given_B2=0.60\n",
    "P_R_given_B3=0.45\n",
    "\n",
    "#We choose our partitions as B1,B2,B3. \n",
    "#Note that this is a valid partition because, firstly, the Bi's are disjoint (only one of them can happen), \n",
    "# and secondly, because their union is the entire sample space as one the bags will be chosen for sure.\n",
    "# i.e., P(B1∪B2∪B3)=1. Using the law of total probability, we can write\n",
    "\n",
    "# P(R)=P(R|B1)P(B1)+P(R|B2)P(B2)+P(R|B3)P(B3)\n",
    "\n",
    "P_R=(0.75*1/3) +(0.60* 1/3)+(0.45* 1/3)\n",
    "P_R"
   ]
  },
  {
   "cell_type": "markdown",
   "metadata": {},
   "source": [
    "## Summary \n",
    "\n",
    "In this lab, you practiced conditional probability and its theorem with some simple problems. The key takeaway from this lab is to be able to identify random events as dependent or independent and calculating the probability of their occurrence using appropriate methods. Next, you'll take this knowledge a step further and run simulations with conditional and total probability. "
   ]
  }
 ],
 "metadata": {
  "kernelspec": {
   "display_name": "learn-env",
   "language": "python",
   "name": "learn-env"
  },
  "language_info": {
   "codemirror_mode": {
    "name": "ipython",
    "version": 3
   },
   "file_extension": ".py",
   "mimetype": "text/x-python",
   "name": "python",
   "nbconvert_exporter": "python",
   "pygments_lexer": "ipython3",
   "version": "3.6.6"
  },
  "toc": {
   "base_numbering": 1,
   "nav_menu": {},
   "number_sections": true,
   "sideBar": true,
   "skip_h1_title": false,
   "title_cell": "Table of Contents",
   "title_sidebar": "Contents",
   "toc_cell": false,
   "toc_position": {},
   "toc_section_display": true,
   "toc_window_display": false
  }
 },
 "nbformat": 4,
 "nbformat_minor": 2
}
